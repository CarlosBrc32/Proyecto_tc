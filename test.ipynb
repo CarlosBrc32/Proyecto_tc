{
 "cells": [
  {
   "cell_type": "code",
   "execution_count": 1,
   "id": "5e27a0be",
   "metadata": {},
   "outputs": [],
   "source": [
    "import requests\n",
    "from bs4 import BeautifulSoup\n",
    "import pandas as pd\n",
    "from scriptTc import *"
   ]
  },
  {
   "cell_type": "code",
   "execution_count": 6,
   "id": "9253db32",
   "metadata": {},
   "outputs": [
    {
     "data": {
      "text/plain": [
       "'31-05-1987'"
      ]
     },
     "execution_count": 6,
     "metadata": {},
     "output_type": "execute_result"
    }
   ],
   "source": [
    "hoy = date(1987,5,31).strftime('%d-%m-%Y')\n",
    "\n",
    "hoy"
   ]
  },
  {
   "cell_type": "code",
   "execution_count": null,
   "id": "be40922c",
   "metadata": {},
   "outputs": [],
   "source": []
  }
 ],
 "metadata": {
  "kernelspec": {
   "display_name": "env",
   "language": "python",
   "name": "python3"
  },
  "language_info": {
   "codemirror_mode": {
    "name": "ipython",
    "version": 3
   },
   "file_extension": ".py",
   "mimetype": "text/x-python",
   "name": "python",
   "nbconvert_exporter": "python",
   "pygments_lexer": "ipython3",
   "version": "3.12.3"
  }
 },
 "nbformat": 4,
 "nbformat_minor": 5
}
